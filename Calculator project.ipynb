{
 "cells": [
  {
   "cell_type": "code",
   "execution_count": 1,
   "id": "5af606a6",
   "metadata": {},
   "outputs": [
    {
     "name": "stdout",
     "output_type": "stream",
     "text": [
      "What's the first number?: 2\n",
      "+\n",
      "-\n",
      "*\n",
      "/\n",
      "Pick an operation: *\n",
      "What's the next number?: 8\n",
      "2 * 8 = 16\n",
      "Pick an operation: /\n",
      "What's the next number?: 4\n",
      "16 / 4 = 4.0\n"
     ]
    }
   ],
   "source": [
    "#Calculator\n",
    "def add(n1, n2):\n",
    "    return n1 + n2\n",
    "\n",
    "def subtract(n1, n2):\n",
    "    return n1 - n2\n",
    "\n",
    "def multiply(n1, n2):\n",
    "    return n1 * n2\n",
    "\n",
    "def divide(n1, n2):\n",
    "    return n1 / n2\n",
    "\n",
    "operations = {\n",
    "  \"+\": add,\n",
    "  \"-\": subtract,\n",
    "  \"*\": multiply,\n",
    "  \"/\": divide\n",
    "}\n",
    "\n",
    "num1 = int(input(\"What's the first number?: \"))\n",
    "for symbol in operations:\n",
    "    print(symbol)\n",
    "\n",
    "#Here we select \"+\"\n",
    "operation_symbol = input(\"Pick an operation: \") \n",
    "num2 = int(input(\"What's the next number?: \"))\n",
    "calculation_function = operations[operation_symbol]\n",
    "first_answer = calculation_function(num1, num2)\n",
    "\n",
    "print(f\"{num1} {operation_symbol} {num2} = {first_answer}\")\n",
    "\n",
    "#Here we select \"*\" which overides the \"+\" we selected on line 26.\n",
    "operation_symbol = input(\"Pick an operation: \") \n",
    "num3 = int(input(\"What's the next number?: \"))\n",
    "\n",
    "#Here the calculation_function selected will be the multiply() function\n",
    "calculation_function = operations[operation_symbol] \n",
    "\n",
    "#Here the code will be:\n",
    "#second_answer = multiply(multiply(num1, num2), num3)\n",
    "second_answer = calculation_function(calculation_function(num1, num2), num3)\n",
    "#second_answer = 2 * 3 * 3 = 18\n",
    "#To fix this bug we need to change the code on line 42 to:\n",
    "second_answer = calculation_function(first_answer, num3)\n",
    "#In the next lesson, we will delete all the code from line 34-48 so don't worry\n",
    "#It won't affect your final project.\n",
    "#But it's a good oportunity to practice debugging. \n",
    "\n",
    "print(f\"{first_answer} {operation_symbol} {num3} = {second_answer}\")\n"
   ]
  },
  {
   "cell_type": "code",
   "execution_count": null,
   "id": "3ed1945b",
   "metadata": {},
   "outputs": [],
   "source": []
  }
 ],
 "metadata": {
  "kernelspec": {
   "display_name": "Python 3",
   "language": "python",
   "name": "python3"
  },
  "language_info": {
   "codemirror_mode": {
    "name": "ipython",
    "version": 3
   },
   "file_extension": ".py",
   "mimetype": "text/x-python",
   "name": "python",
   "nbconvert_exporter": "python",
   "pygments_lexer": "ipython3",
   "version": "3.8.8"
  }
 },
 "nbformat": 4,
 "nbformat_minor": 5
}
