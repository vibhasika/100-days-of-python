{
 "cells": [
  {
   "cell_type": "code",
   "execution_count": 3,
   "id": "c3974016",
   "metadata": {},
   "outputs": [
    {
     "name": "stdout",
     "output_type": "stream",
     "text": [
      "Welcome to the Band Name Generator\n",
      "What's name of the city you grew up in?\n",
      "Hyderabad\n",
      "What's your pet's name?\n",
      "Zurro\n",
      "Your band name could be Hyderabad Zurro\n"
     ]
    }
   ],
   "source": [
    "#Day 1: Band name generator\n",
    "#1. Create a greeting for your program.\n",
    "\n",
    "#2. Ask the user for the city that they grew up in.\n",
    "\n",
    "#3. Ask the user for the name of a pet.\n",
    "\n",
    "#4. Combine the name of their city and pet and show them their band name.\n",
    "\n",
    "#5. Make sure the input cursor shows on a new line, see the example at:\n",
    "#   https://replit.com/@appbrewery/band-name-generator-end\n",
    "\n",
    "print(\"Welcome to the Band Name Generator\")\n",
    "city_name = input(\"What's name of the city you grew up in?\\n\")\n",
    "pet_name = input(\"What's your pet's name?\\n\")\n",
    "Band_name = city_name + \" \" + pet_name\n",
    "print(\"Your band name could be \" + Band_name)"
   ]
  },
  {
   "cell_type": "code",
   "execution_count": 4,
   "id": "13e8897a",
   "metadata": {},
   "outputs": [
    {
     "name": "stdout",
     "output_type": "stream",
     "text": [
      "Welcome to the tip calculator!\n",
      "What was the total bill?\n",
      "150\n",
      "How much tip would you like to give? 10, 12 or 15 percent?\n",
      "12\n",
      "How many people to split the bill?\n",
      "5\n",
      "each person should pay: 184\n"
     ]
    }
   ],
   "source": [
    "#Day 2: Tip Calculator\n",
    "#If the bill was $150.00, split between 5 people, with 12% tip. \n",
    "\n",
    "#Each person should pay (150.00 / 5) * 1.12 = 33.6\n",
    "#Format the result to 2 decimal places = 33.60\n",
    "\n",
    "#Tip: There are 2 ways to round a number. You might have to do some Googling to solve this.💪\n",
    "\n",
    "#Write your code below this line 👇\n",
    "\n",
    "print(\"Welcome to the tip calculator!\")\n",
    "total_bill = int(input(\"What was the total bill?\\n\"))\n",
    "tip = int(input(\"How much tip would you like to give? 10, 12 or 15 percent?\\n\"))\n",
    "n = int(input(\"How many people to split the bill?\\n\"))\n",
    "bill_per_head = total_bill + (total_bill/n) * (1 + tip/100)\n",
    "split_bill = round(bill_per_head)\n",
    "print(f\"each person should pay: {split_bill}\")"
   ]
  },
  {
   "cell_type": "code",
   "execution_count": null,
   "id": "3bfc0ca7",
   "metadata": {},
   "outputs": [],
   "source": []
  },
  {
   "cell_type": "code",
   "execution_count": null,
   "id": "3478fd27",
   "metadata": {},
   "outputs": [],
   "source": []
  }
 ],
 "metadata": {
  "kernelspec": {
   "display_name": "Python 3",
   "language": "python",
   "name": "python3"
  },
  "language_info": {
   "codemirror_mode": {
    "name": "ipython",
    "version": 3
   },
   "file_extension": ".py",
   "mimetype": "text/x-python",
   "name": "python",
   "nbconvert_exporter": "python",
   "pygments_lexer": "ipython3",
   "version": "3.8.8"
  }
 },
 "nbformat": 4,
 "nbformat_minor": 5
}
