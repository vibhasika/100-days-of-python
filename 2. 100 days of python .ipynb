{
 "cells": [
  {
   "cell_type": "code",
   "execution_count": 3,
   "id": "7ef7eda9",
   "metadata": {},
   "outputs": [
    {
     "name": "stdout",
     "output_type": "stream",
     "text": [
      "Welcome to the Band Name Generator\n",
      "What's name of the city you grew up in?\n",
      "Hyderabad\n",
      "What's your pet's name?\n",
      "Zurro\n",
      "Your band name could be Hyderabad Zurro\n"
     ]
    }
   ],
   "source": [
    "#Band name generator\n",
    "#1. Create a greeting for your program.\n",
    "\n",
    "#2. Ask the user for the city that they grew up in.\n",
    "\n",
    "#3. Ask the user for the name of a pet.\n",
    "\n",
    "#4. Combine the name of their city and pet and show them their band name.\n",
    "\n",
    "#5. Make sure the input cursor shows on a new line, see the example at:\n",
    "#   https://replit.com/@appbrewery/band-name-generator-end\n",
    "\n",
    "print(\"Welcome to the Band Name Generator\")\n",
    "city_name = input(\"What's name of the city you grew up in?\\n\")\n",
    "pet_name = input(\"What's your pet's name?\\n\")\n",
    "Band_name = city_name + \" \" + pet_name\n",
    "print(\"Your band name could be \" + Band_name)"
   ]
  },
  {
   "cell_type": "code",
   "execution_count": 5,
   "id": "3fbc86d7",
   "metadata": {},
   "outputs": [
    {
     "name": "stdout",
     "output_type": "stream",
     "text": [
      "Welcome to the tip calculator!\n",
      "What was the total bill?\n",
      "150\n",
      "How much tip would you like to give? 10, 12 or 15 percent?\n",
      "12\n",
      "How many people to split the bill?\n",
      "5\n",
      "each person should pay: 34\n"
     ]
    }
   ],
   "source": [
    "#Tip Calculator\n",
    "#If the bill was $150.00, split between 5 people, with 12% tip. \n",
    "\n",
    "#Each person should pay (150.00 / 5) * 1.12 = 33.6\n",
    "#Format the result to 2 decimal places = 33.60\n",
    "\n",
    "#Tip: There are 2 ways to round a number. You might have to do some Googling to solve this.💪\n",
    "\n",
    "#Write your code below this line 👇\n",
    "\n",
    "print(\"Welcome to the tip calculator!\")\n",
    "total_bill = int(input(\"What was the total bill?\\n\"))\n",
    "tip = int(input(\"How much tip would you like to give? 10, 12 or 15 percent?\\n\"))\n",
    "n = int(input(\"How many people to split the bill?\\n\"))\n",
    "bill_per_head = (total_bill/n) * (1 + tip/100)\n",
    "split_bill = round(bill_per_head)\n",
    "print(f\"each person should pay: {split_bill}\")"
   ]
  },
  {
   "cell_type": "code",
   "execution_count": 1,
   "id": "d2119f37",
   "metadata": {},
   "outputs": [
    {
     "name": "stdout",
     "output_type": "stream",
     "text": [
      "Welcome to Python Pizza Deliveries!\n",
      "What size pizza do you want? S, M, or L L\n",
      "Do you want pepperoni? Y or N Y\n",
      "Do you want extra cheese? Y or N Y\n",
      "your bill is 29\n"
     ]
    }
   ],
   "source": [
    "#pizza shop\n",
    "print(\"Welcome to Python Pizza Deliveries!\")\n",
    "size = input(\"What size pizza do you want? S, M, or L \")\n",
    "add_pepperoni = input(\"Do you want pepperoni? Y or N \")\n",
    "extra_cheese = input(\"Do you want extra cheese? Y or N \")\n",
    "# 🚨 Don't change the code above 👆\n",
    "\n",
    "#Write your code below this line 👇\n",
    "bill = 0\n",
    "if size == 'S':\n",
    "    bill += 15\n",
    "elif size == 'M':\n",
    "    bill += 20\n",
    "elif size == 'L':\n",
    "    bill += 25\n",
    "\n",
    "if add_pepperoni == 'Y':\n",
    "    if size == 's':\n",
    "        bill += 2\n",
    "    else:\n",
    "        bill += 3\n",
    "    \n",
    "if extra_cheese == 'Y':\n",
    "      bill += 1\n",
    "\n",
    "print(f\"your bill is {bill}\")"
   ]
  },
  {
   "cell_type": "code",
   "execution_count": 2,
   "id": "09867783",
   "metadata": {},
   "outputs": [
    {
     "name": "stdout",
     "output_type": "stream",
     "text": [
      "enter your height in m: 1.52\n",
      "enter your weight in kg: 54\n",
      "you have a normal weight\n"
     ]
    }
   ],
   "source": [
    "height = float(input(\"enter your height in m: \"))\n",
    "weight = float(input(\"enter your weight in kg: \"))\n",
    "# 🚨 Don't change the code above 👆\n",
    "\n",
    "#Write your code below this line 👇\n",
    "bmi = round(weight/height**2)\n",
    "if bmi < 18.5:\n",
    "  print(\"you are underweight\")\n",
    "elif bmi > 18.5 and bmi < 25:\n",
    "  print(\"you have a normal weight\")\n",
    "elif bmi > 25 and bmi < 30:\n",
    "  print(\"you are slightly weight\")\n",
    "elif bmi > 30 and bmi < 35:\n",
    "  print(\"you have a obese\")\n",
    "elif bmi > 35:\n",
    "  print(\"you are clinically obese\")"
   ]
  },
  {
   "cell_type": "code",
   "execution_count": 5,
   "id": "690f6f97",
   "metadata": {},
   "outputs": [
    {
     "name": "stdout",
     "output_type": "stream",
     "text": [
      "Welcome to the rollercoaster!\n",
      "What is your height in cm? 120\n",
      "You can ride the rollercoaster!\n",
      "What is your age? 20\n",
      "Adult tickets are $12.\n",
      "Do you want a photo taken? Y or N. N\n"
     ]
    }
   ],
   "source": [
    "print(\"Welcome to the rollercoaster!\")\n",
    "height = int(input(\"What is your height in cm? \"))\n",
    "bill = 0\n",
    "\n",
    "if height >= 120:\n",
    "    print(\"You can ride the rollercoaster!\")\n",
    "    age = int(input(\"What is your age? \"))\n",
    "    if age < 12:\n",
    "        bill = 5\n",
    "        print(\"Child tickets are $5.\")\n",
    "    elif age <= 18:\n",
    "        bill = 7\n",
    "        print(\"Youth tickets are $7.\")\n",
    "    elif age >= 45 and age <= 55:\n",
    "        print(\"Everything is going to be ok. Have a free ride on us!\")\n",
    "    else:\n",
    "        bill = 12\n",
    "        print(\"Adult tickets are $12.\")\n",
    "  \n",
    "    wants_photo = input(\"Do you want a photo taken? Y or N. \")\n",
    "    if wants_photo == \"Y\":\n",
    "        bill += 3\n",
    "        print(f\"Your final bill is ${bill}\")\n",
    "\n",
    "else:\n",
    "    print(\"Sorry, you have to grow taller before you can ride.\")"
   ]
  },
  {
   "cell_type": "code",
   "execution_count": 7,
   "id": "66250296",
   "metadata": {},
   "outputs": [
    {
     "name": "stdout",
     "output_type": "stream",
     "text": [
      "Welcome to the Love Calculator!\n",
      "What is your name? \n",
      "Vibhasika\n",
      "What is their name? \n",
      "Tripurari Dash\n",
      "vibhasikatripurari dash\n",
      "5\n",
      "1\n",
      "51\n",
      "Your score is 51\n"
     ]
    }
   ],
   "source": [
    "# 🚨 Don't change the code below 👇\n",
    "print(\"Welcome to the Love Calculator!\")\n",
    "name1 = input(\"What is your name? \\n\")\n",
    "name2 = input(\"What is their name? \\n\")\n",
    "# 🚨 Don't change the code above 👆\n",
    "\n",
    "#Write your code below this line 👇\n",
    "comb_str = name1 + name2\n",
    "lower_str = comb_str.lower()\n",
    "print(lower_str)\n",
    "count_t = lower_str.count(\"t\")\n",
    "count_r = lower_str.count(\"r\")\n",
    "count_u = lower_str.count(\"u\")\n",
    "count_e = lower_str.count(\"e\")\n",
    "count_l = lower_str.count(\"l\")\n",
    "count_o = lower_str.count(\"o\")\n",
    "count_v = lower_str.count(\"v\")\n",
    "count_e = lower_str.count(\"e\")\n",
    "true = count_t + count_r + count_u + count_e\n",
    "print(true)\n",
    "love = count_l + count_o + count_v + count_e\n",
    "print(love)\n",
    "True_love_Score = str(true) + str(love)\n",
    "print(True_love_Score)\n",
    "TLS = int(True_love_Score)\n",
    "\n",
    "if TLS < 10 and TLS > 90:\n",
    "    print(f\"Your score is {True_love_Score}, you go together like coke and mentos.\")\n",
    "elif TLS > 40 and TLS < 50:\n",
    "    print(f\"Your score is {True_love_Score}, you are alright together.\")\n",
    "else:\n",
    "    print(f\"Your score is {TLS}\")"
   ]
  },
  {
   "cell_type": "code",
   "execution_count": 9,
   "id": "8600f00b",
   "metadata": {},
   "outputs": [
    {
     "name": "stdout",
     "output_type": "stream",
     "text": [
      "\n",
      "*******************************************************************************\n",
      "          |                   |                  |                     |\n",
      " _________|________________.=\"\"_;=.______________|_____________________|_______\n",
      "|                   |  ,-\"_,=\"\"     `\"=.|                  |\n",
      "|___________________|__\"=._o`\"-._        `\"=.______________|___________________\n",
      "          |                `\"=._o`\"=._      _`\"=._                     |\n",
      " _________|_____________________:=._o \"=._.\"_.-=\"'\"=.__________________|_______\n",
      "|                   |    __.--\" , ; `\"=._o.\" ,-\"\"\"-._ \".   |\n",
      "|___________________|_._\"  ,. .` ` `` ,  `\"-._\"-._   \". '__|___________________\n",
      "          |           |o`\"=._` , \"` `; .\". ,  \"-._\"-._; ;              |\n",
      " _________|___________| ;`-.o`\"=._; .\" ` '`.\"\\` . \"-._ /_______________|_______\n",
      "|                   | |o;    `\"-.o`\"=._``  '` \" ,__.--o;   |\n",
      "|___________________|_| ;     (#) `-.o `\"=.`_.--\"_o.-; ;___|___________________\n",
      "____/______/______/___|o;._    \"      `\".o|o_.--\"    ;o;____/______/______/____\n",
      "/______/______/______/_\"=._o--._        ; | ;        ; ;/______/______/______/_\n",
      "____/______/______/______/__\"=._o--._   ;o|o;     _._;o;____/______/______/____\n",
      "/______/______/______/______/____\"=._o._; | ;_.--\"o.--\"_/______/______/______/_\n",
      "____/______/______/______/______/_____\"=.o|o_.--\"\"___/______/______/______/____\n",
      "/______/______/______/______/______/______/______/______/______/______/_____ /\n",
      "*******************************************************************************\n",
      "\n",
      "Welcome to Treasure Island.\n",
      "Your mission is to find the treasure.\n",
      "You're at a cross road. Where do you want to go? Type \"left\" or \"right\" \n",
      "left\n",
      "You've come to a lake. There is an island in the middle of the lake. Type \"wait\" to wait for a boat. Type \"swim\" to swim across. \n",
      "wait\n",
      "You arrive at the island unharmed. There is a house with 3 doors. One red, one yellow and one blue. Which colour do you choose? \n",
      "yellow\n",
      "You found the treasure! You Win!\n"
     ]
    }
   ],
   "source": [
    "print('''\n",
    "*******************************************************************************\n",
    "          |                   |                  |                     |\n",
    " _________|________________.=\"\"_;=.______________|_____________________|_______\n",
    "|                   |  ,-\"_,=\"\"     `\"=.|                  |\n",
    "|___________________|__\"=._o`\"-._        `\"=.______________|___________________\n",
    "          |                `\"=._o`\"=._      _`\"=._                     |\n",
    " _________|_____________________:=._o \"=._.\"_.-=\"'\"=.__________________|_______\n",
    "|                   |    __.--\" , ; `\"=._o.\" ,-\"\"\"-._ \".   |\n",
    "|___________________|_._\"  ,. .` ` `` ,  `\"-._\"-._   \". '__|___________________\n",
    "          |           |o`\"=._` , \"` `; .\". ,  \"-._\"-._; ;              |\n",
    " _________|___________| ;`-.o`\"=._; .\" ` '`.\"\\` . \"-._ /_______________|_______\n",
    "|                   | |o;    `\"-.o`\"=._``  '` \" ,__.--o;   |\n",
    "|___________________|_| ;     (#) `-.o `\"=.`_.--\"_o.-; ;___|___________________\n",
    "____/______/______/___|o;._    \"      `\".o|o_.--\"    ;o;____/______/______/____\n",
    "/______/______/______/_\"=._o--._        ; | ;        ; ;/______/______/______/_\n",
    "____/______/______/______/__\"=._o--._   ;o|o;     _._;o;____/______/______/____\n",
    "/______/______/______/______/____\"=._o._; | ;_.--\"o.--\"_/______/______/______/_\n",
    "____/______/______/______/______/_____\"=.o|o_.--\"\"___/______/______/______/____\n",
    "/______/______/______/______/______/______/______/______/______/______/_____ /\n",
    "*******************************************************************************\n",
    "''')\n",
    "print(\"Welcome to Treasure Island.\")\n",
    "print(\"Your mission is to find the treasure.\")\n",
    "\n",
    "#Write your code below this line 👇\n",
    "\n",
    "choice1 = input('You\\'re at a cross road. Where do you want to go? Type \"left\" or \"right\" \\n').lower()\n",
    "if choice1 == \"left\":\n",
    "    choice2 = input('You\\'ve come to a lake. There is an island in the middle of the lake. Type \"wait\" to wait for a boat. Type \"swim\" to swim across. \\n').lower()\n",
    "    if choice2 == \"wait\":\n",
    "        choice3 = input(\"You arrive at the island unharmed. There is a house with 3 doors. One red, one yellow and one blue. Which colour do you choose? \\n\").lower()\n",
    "        if choice3 == \"red\":\n",
    "            print(\"It's a room full of fire. Game Over.\")\n",
    "        elif choice3 == \"yellow\":\n",
    "            print(\"You found the treasure! You Win!\")\n",
    "        elif choice3 == \"blue\":\n",
    "            print(\"You enter a room of beasts. Game Over.\")\n",
    "        else:\n",
    "            print(\"You chose a door that doesn't exist. Game Over.\")\n",
    "    else:\n",
    "        print(\"You get attacked by an angry trout. Game Over.\")\n",
    "else:\n",
    "    print(\"You fell into a hole. Game Over.\")"
   ]
  },
  {
   "cell_type": "code",
   "execution_count": null,
   "id": "2b4f33af",
   "metadata": {},
   "outputs": [],
   "source": []
  },
  {
   "cell_type": "code",
   "execution_count": null,
   "id": "ff5ed789",
   "metadata": {},
   "outputs": [],
   "source": []
  }
 ],
 "metadata": {
  "kernelspec": {
   "display_name": "Python 3",
   "language": "python",
   "name": "python3"
  },
  "language_info": {
   "codemirror_mode": {
    "name": "ipython",
    "version": 3
   },
   "file_extension": ".py",
   "mimetype": "text/x-python",
   "name": "python",
   "nbconvert_exporter": "python",
   "pygments_lexer": "ipython3",
   "version": "3.8.8"
  }
 },
 "nbformat": 4,
 "nbformat_minor": 5
}
